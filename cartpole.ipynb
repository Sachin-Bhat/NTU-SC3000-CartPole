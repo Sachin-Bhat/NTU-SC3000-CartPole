{
  "nbformat": 4,
  "nbformat_minor": 0,
  "metadata": {
    "colab": {
      "provenance": [],
      "include_colab_link": true
    },
    "kernelspec": {
      "name": "python3",
      "display_name": "Python 3"
    },
    "language_info": {
      "name": "python"
    }
  },
  "cells": [
    {
      "cell_type": "markdown",
      "metadata": {
        "id": "view-in-github",
        "colab_type": "text"
      },
      "source": [
        "<a href=\"https://colab.research.google.com/github/Sachin-Bhat/NTU-SC3000-CartPole/blob/master/cartpole.ipynb\" target=\"_parent\"><img src=\"https://colab.research.google.com/assets/colab-badge.svg\" alt=\"Open In Colab\"/></a>"
      ]
    },
    {
      "cell_type": "markdown",
      "source": [
        "# Tutorial and Sample Code for Balancing a Pole on a Cart"
      ],
      "metadata": {
        "id": "ZauhjPSfX7pI"
      }
    },
    {
      "cell_type": "markdown",
      "source": [
        "## Installing dependencies:"
      ],
      "metadata": {
        "id": "UBiYOoesYMvr"
      }
    },
    {
      "cell_type": "code",
      "execution_count": 1,
      "metadata": {
        "colab": {
          "base_uri": "https://localhost:8080/"
        },
        "id": "PbgnVwZmX5uW",
        "outputId": "a1814185-4110-42b9-fba0-215e51881194"
      },
      "outputs": [
        {
          "output_type": "stream",
          "name": "stdout",
          "text": [
            "Looking in indexes: https://pypi.org/simple, https://us-python.pkg.dev/colab-wheels/public/simple/\n",
            "Requirement already satisfied: gym[classic_control] in /usr/local/lib/python3.8/dist-packages (0.25.2)\n",
            "Requirement already satisfied: importlib-metadata>=4.8.0 in /usr/local/lib/python3.8/dist-packages (from gym[classic_control]) (6.0.0)\n",
            "Requirement already satisfied: gym-notices>=0.0.4 in /usr/local/lib/python3.8/dist-packages (from gym[classic_control]) (0.0.8)\n",
            "Requirement already satisfied: numpy>=1.18.0 in /usr/local/lib/python3.8/dist-packages (from gym[classic_control]) (1.21.6)\n",
            "Requirement already satisfied: cloudpickle>=1.2.0 in /usr/local/lib/python3.8/dist-packages (from gym[classic_control]) (2.2.1)\n",
            "Requirement already satisfied: pygame==2.1.0 in /usr/local/lib/python3.8/dist-packages (from gym[classic_control]) (2.1.0)\n",
            "Requirement already satisfied: zipp>=0.5 in /usr/local/lib/python3.8/dist-packages (from importlib-metadata>=4.8.0->gym[classic_control]) (3.12.0)\n",
            "Looking in indexes: https://pypi.org/simple, https://us-python.pkg.dev/colab-wheels/public/simple/\n",
            "Requirement already satisfied: setuptools<=64.0.2 in /usr/local/lib/python3.8/dist-packages (64.0.2)\n",
            "Looking in indexes: https://pypi.org/simple, https://us-python.pkg.dev/colab-wheels/public/simple/\n",
            "Requirement already satisfied: jedi>=0.10 in /usr/local/lib/python3.8/dist-packages (0.18.2)\n",
            "Requirement already satisfied: parso<0.9.0,>=0.8.0 in /usr/local/lib/python3.8/dist-packages (from jedi>=0.10) (0.8.3)\n"
          ]
        }
      ],
      "source": [
        "!apt-get install -y xvfb python-opengl > /dev/null 2>&1\n",
        "!pip install gym pyvirtualdisplay > /dev/null 2>&1\n",
        "!pip install gym pyvirtualdisplay > /dev/null 2>&1\n",
        "!apt-get install -y xvfb python-opengl ffmpeg > /dev/null 2>&1\n",
        "!pip install gym[classic_control]\n",
        "!apt-get update > /dev/null 2>&1\n",
        "!apt-get install cmake > /dev/null 2>&1\n",
        "!pip install 'setuptools<=64.0.2' 2>&1\n",
        "!pip install ez_setup > /dev/null 2>&1\n",
        "!pip install 'jedi>=0.10' 2>&1"
      ]
    },
    {
      "cell_type": "markdown",
      "source": [
        "## Importing dependencies and define helper functions"
      ],
      "metadata": {
        "id": "RwKbYeTgbaTA"
      }
    },
    {
      "cell_type": "code",
      "source": [
        "import gym\n",
        "from gym import logger as gymlogger\n",
        "from gym.wrappers import RecordVideo\n",
        "gymlogger.set_level(40) #error only\n",
        "import tensorflow as tf\n",
        "import numpy as np\n",
        "import random\n",
        "import matplotlib\n",
        "import matplotlib.pyplot as plt\n",
        "%matplotlib inline\n",
        "import math\n",
        "import glob\n",
        "import io\n",
        "import base64\n",
        "from IPython.display import HTML\n",
        "from IPython import display as ipythondisplay\n",
        "\n",
        "def show_video():\n",
        "  mp4list = glob.glob('video/*.mp4')\n",
        "  if len(mp4list) > 0:\n",
        "    mp4 = mp4list[0]\n",
        "    video = io.open(mp4, 'r+b').read()\n",
        "    encoded = base64.b64encode(video)\n",
        "    ipythondisplay.display(HTML(data='''<video alt=\"test\" autoplay \n",
        "                loop controls style=\"height: 400px;\">\n",
        "                <source src=\"data:video/mp4;base64,{0}\" type=\"video/mp4\" />\n",
        "             </video>'''.format(encoded.decode('ascii'))))\n",
        "  else: \n",
        "    print(\"Could not find video\")"
      ],
      "metadata": {
        "id": "j6KpgCLGYWmj"
      },
      "execution_count": 2,
      "outputs": []
    },
    {
      "cell_type": "markdown",
      "source": [
        "## Tutorial: Loading CartPole environment"
      ],
      "metadata": {
        "id": "ehbqP9CXbmo7"
      }
    },
    {
      "cell_type": "code",
      "source": [
        "env = gym.make(\"CartPole-v1\")"
      ],
      "metadata": {
        "id": "Go12dH4qbwBy"
      },
      "execution_count": 3,
      "outputs": []
    },
    {
      "cell_type": "markdown",
      "source": [
        "We can check the action and observation space of this environment. Discrete(2) means that there are two valid discrete actions: 0 & 1."
      ],
      "metadata": {
        "id": "9XZ9g3xrcAXE"
      }
    },
    {
      "cell_type": "code",
      "source": [
        "print(env.action_space)"
      ],
      "metadata": {
        "colab": {
          "base_uri": "https://localhost:8080/"
        },
        "id": "ytxvVmLdcRyw",
        "outputId": "fd04cabf-a406-4158-bcad-da0063b448d6"
      },
      "execution_count": 4,
      "outputs": [
        {
          "output_type": "stream",
          "name": "stdout",
          "text": [
            "Discrete(2)\n"
          ]
        }
      ]
    },
    {
      "cell_type": "markdown",
      "source": [
        "The observation space is given below. The first two arrays define the min and max values of the 4 observed values, corresponding to cart position, velocity and pole angle, angular velocity."
      ],
      "metadata": {
        "id": "pVXGWi_Ncfg-"
      }
    },
    {
      "cell_type": "code",
      "source": [
        "print(env.observation_space)"
      ],
      "metadata": {
        "colab": {
          "base_uri": "https://localhost:8080/"
        },
        "id": "DyqHr9I5cdkX",
        "outputId": "cef1d6db-d535-4414-bc97-82928afadb60"
      },
      "execution_count": 5,
      "outputs": [
        {
          "output_type": "stream",
          "name": "stdout",
          "text": [
            "Box([-4.8000002e+00 -3.4028235e+38 -4.1887903e-01 -3.4028235e+38], [4.8000002e+00 3.4028235e+38 4.1887903e-01 3.4028235e+38], (4,), float32)\n"
          ]
        }
      ]
    },
    {
      "cell_type": "markdown",
      "source": [
        "We call each round of the pole-balancing game an \"episode\". At the start of each episode, make sure the environment is reset, which chooses a random initial state, e.g., pole slightly tilted to the right. This initialization can be achieved by the code below, which returns the observation of the initial state."
      ],
      "metadata": {
        "id": "HFOdaU2Gdyg0"
      }
    },
    {
      "cell_type": "code",
      "source": [
        "observation = env.reset()\n",
        "print(\"Initial observations:\", observation)"
      ],
      "metadata": {
        "colab": {
          "base_uri": "https://localhost:8080/"
        },
        "id": "VMr6qAqxdOsm",
        "outputId": "84342b6f-465a-4cb2-f6f8-3996c7640d78"
      },
      "execution_count": 6,
      "outputs": [
        {
          "output_type": "stream",
          "name": "stdout",
          "text": [
            "Initial observations: [-0.02441367  0.03978779 -0.02437949 -0.03174375]\n"
          ]
        }
      ]
    },
    {
      "cell_type": "markdown",
      "source": [
        "For the CartPole environment, there are two possible actions: 0 for pushing to the left and 1 for pushing to the right. For example, we can push the cart to the left using code below, which returns the new observation, the current reward, an indicator of whether the game ends, and some additional information (not used in this project). For CartPole, the game ends when the pole is significantly tilted or you manage to balance the pole for 500 steps. You get exactly 1 reward for each step before the game ends (i.e., max cumulative reward is 500)."
      ],
      "metadata": {
        "id": "qnG2QdfbeZrI"
      }
    },
    {
      "cell_type": "code",
      "source": [
        "observation, reward, done, info = env.step(0)\n",
        "print(\"New observations after choosing action 0:\", observation)\n",
        "print(\"Reward for this step:\", reward)\n",
        "print(\"Is this round done?\", done)"
      ],
      "metadata": {
        "colab": {
          "base_uri": "https://localhost:8080/"
        },
        "id": "MmfMDvyYdWGk",
        "outputId": "3e8d6f57-ed75-4226-8b63-7707e39e3d77"
      },
      "execution_count": 7,
      "outputs": [
        {
          "output_type": "stream",
          "name": "stdout",
          "text": [
            "New observations after choosing action 0: [-0.02361791 -0.15497622 -0.02501437  0.2531486 ]\n",
            "Reward for this step: 1.0\n",
            "Is this round done? False\n"
          ]
        }
      ]
    },
    {
      "cell_type": "markdown",
      "source": [
        "Now we can play a full round of the game using a naive strategy (always choosing action 0), and show the cumulative reward in the round. Note that reward returned by env.step(*) corresponds to the reward for current step. So we have to accumulate the reward for each step. Clearly, the naive strategy performs poorly by surviving only a dozen of steps."
      ],
      "metadata": {
        "id": "tj0zCh59fhBb"
      }
    },
    {
      "cell_type": "code",
      "source": [
        "observation = env.reset()\n",
        "cumulative_reward = 0\n",
        "done = False\n",
        "while not done:\n",
        "    observation, reward, done, info = env.step(0)\n",
        "    cumulative_reward += reward\n",
        "print(\"Cumulative reward for this round:\", cumulative_reward)"
      ],
      "metadata": {
        "colab": {
          "base_uri": "https://localhost:8080/"
        },
        "id": "AVucQVRwf6Jm",
        "outputId": "06283309-8343-49c9-9a28-8d56ec8b6c12"
      },
      "execution_count": 8,
      "outputs": [
        {
          "output_type": "stream",
          "name": "stdout",
          "text": [
            "Cumulative reward for this round: 9.0\n"
          ]
        }
      ]
    },
    {
      "cell_type": "markdown",
      "source": [
        "## Task 1: Development of an RL agent"
      ],
      "metadata": {
        "id": "2oIzK9SzhlWN"
      }
    },
    {
      "cell_type": "markdown",
      "source": [
        "An example of a naive agent is given below, which randomly chooses an action regardless of the observation:"
      ],
      "metadata": {
        "id": "Cc6_e5c_huiq"
      }
    },
    {
      "cell_type": "code",
      "source": [
        "def rand_policy_agent(observation):\n",
        "    return random.randint(0, 1)"
      ],
      "metadata": {
        "id": "Hk-M4QEfh6l5"
      },
      "execution_count": 9,
      "outputs": []
    },
    {
      "cell_type": "markdown",
      "source": [
        "For Task 1, we can show the observation and chosen action below:"
      ],
      "metadata": {
        "id": "RAi7KKwNiegR"
      }
    },
    {
      "cell_type": "code",
      "source": [
        "observation = env.reset()\n",
        "action = rand_policy_agent(observation)\n",
        "print(\"Observation:\", observation)\n",
        "print(\"Chosen action:\", action)"
      ],
      "metadata": {
        "colab": {
          "base_uri": "https://localhost:8080/"
        },
        "id": "ae2ia-vUiNKJ",
        "outputId": "012821ca-b3c3-40af-94fa-3fa8a3578b62"
      },
      "execution_count": 10,
      "outputs": [
        {
          "output_type": "stream",
          "name": "stdout",
          "text": [
            "Observation: [-0.04428326  0.0164016   0.01211952 -0.04159457]\n",
            "Chosen action: 0\n"
          ]
        }
      ]
    },
    {
      "cell_type": "markdown",
      "source": [
        "## Task 2: Demonstrate the effectiveness of the RL agent"
      ],
      "metadata": {
        "id": "-XtIQ0Rti1gm"
      }
    },
    {
      "cell_type": "markdown",
      "source": [
        "For this task, use the agent developed in Task 1 to play the game for 100 episodes (refer to tutorial for how to play a round), record the cumulative reward for each round, and plot the reward for each round. A sample plotting code is given below. Note that you must include code to play for 100 episodes and use the code to obtain round_results for plotting. DO NOT record the round results in advance and paste the results to the notebook."
      ],
      "metadata": {
        "id": "djBEShf0kGI4"
      }
    },
    {
      "cell_type": "code",
      "source": [
        "episode_results = np.random.randint(150, 250, size=100)\n",
        "plt.plot(episode_results)\n",
        "plt.title('Cumulative reward for each episode')\n",
        "plt.ylabel('Cumulative reward')\n",
        "plt.xlabel('episode')\n",
        "plt.show()"
      ],
      "metadata": {
        "colab": {
          "base_uri": "https://localhost:8080/",
          "height": 295
        },
        "id": "RZrCKywQi6CE",
        "outputId": "10782f66-f66b-4edb-c1ff-bf782404d868"
      },
      "execution_count": 11,
      "outputs": [
        {
          "output_type": "display_data",
          "data": {
            "text/plain": [
              "<Figure size 432x288 with 1 Axes>"
            ],
            "image/png": "[encoded data removed]"
          },
          "metadata": {
            "needs_background": "light"
          }
        }
      ]
    },
    {
      "cell_type": "markdown",
      "source": [
        "Print the average reward over the 100 episodes."
      ],
      "metadata": {
        "id": "XndSYH7wlvn7"
      }
    },
    {
      "cell_type": "code",
      "source": [
        "print(\"Average cumulative reward:\", episode_results.mean())\n",
        "print(\"Is my agent good enough?\", episode_results.mean() > 195)"
      ],
      "metadata": {
        "colab": {
          "base_uri": "https://localhost:8080/"
        },
        "id": "pOiOp9OYlo5Y",
        "outputId": "7e784b03-7444-44ca-a4ab-1824458430b4"
      },
      "execution_count": 12,
      "outputs": [
        {
          "output_type": "stream",
          "name": "stdout",
          "text": [
            "Average cumulative reward: 206.2\n",
            "Is my agent good enough? True\n"
          ]
        }
      ]
    },
    {
      "cell_type": "markdown",
      "source": [
        "## Task 3: Render one episode played by the agent"
      ],
      "metadata": {
        "id": "Yg0DCT38lFA6"
      }
    },
    {
      "cell_type": "markdown",
      "source": [
        "Plug your agent to the code below to obtain rendered result."
      ],
      "metadata": {
        "id": "vx1awMr9lc_w"
      }
    },
    {
      "cell_type": "code",
      "source": [
        "env = RecordVideo(gym.make(\"CartPole-v1\"), \"./video\")\n",
        "observation = env.reset()\n",
        "while True:\n",
        "    env.render()\n",
        "    #your agent goes here\n",
        "    action = rand_policy_agent(observation)\n",
        "    observation, reward, done, info = env.step(action) \n",
        "    if done: \n",
        "      break;    \n",
        "env.close()\n",
        "show_video()"
      ],
      "metadata": {
        "colab": {
          "base_uri": "https://localhost:8080/",
          "height": 422
        },
        "id": "LYyavfbIa47D",
        "outputId": "6df03365-05f4-439b-cb6c-22b3ef985e6a"
      },
      "execution_count": 13,
      "outputs": [
        {
          "output_type": "display_data",
          "data": {
            "text/plain": [
              "<IPython.core.display.HTML object>"
            ],
            "text/html": [
              "<video alt=\"test\" autoplay \n",
              "                loop controls style=\"height: 400px;\">\n",
              "                <source src=\"data:video/mp4;base64,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\" type=\"video/mp4\" />\n",
              "             </video>"
            ]
          },
          "metadata": {}
        }
      ]
    }
  ]
}